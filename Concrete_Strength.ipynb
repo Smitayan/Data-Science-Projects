{
  "nbformat": 4,
  "nbformat_minor": 0,
  "metadata": {
    "colab": {
      "name": "Concrete Strength.ipynb",
      "provenance": [],
      "collapsed_sections": [],
      "authorship_tag": "ABX9TyNtT8dTPjxSOQPa31rwuQW4"
    },
    "kernelspec": {
      "name": "python3",
      "display_name": "Python 3"
    }
  },
  "cells": [
    {
      "cell_type": "code",
      "metadata": {
        "id": "488Mr0EtOuAm",
        "colab": {
          "base_uri": "https://localhost:8080/",
          "height": 34
        },
        "outputId": "87b02073-0deb-4ce0-85ce-4848b9ab55c3"
      },
      "source": [
        "import pandas as pd\n",
        "import numpy as np\n",
        "import keras"
      ],
      "execution_count": null,
      "outputs": [
        {
          "output_type": "stream",
          "text": [
            "Using TensorFlow backend.\n"
          ],
          "name": "stderr"
        }
      ]
    },
    {
      "cell_type": "code",
      "metadata": {
        "id": "dR7_G52RPggD"
      },
      "source": [
        "import sklearn\n",
        "from sklearn.metrics import mean_squared_error\n",
        "from sklearn.model_selection import train_test_split"
      ],
      "execution_count": null,
      "outputs": []
    },
    {
      "cell_type": "code",
      "metadata": {
        "id": "td8-AV9mP3z5"
      },
      "source": [
        "from keras.models import Sequential\n",
        "from keras.layers import InputLayer\n",
        "from keras.layers import Dense"
      ],
      "execution_count": null,
      "outputs": []
    },
    {
      "cell_type": "markdown",
      "metadata": {
        "id": "jdm7ZgGKQpF_"
      },
      "source": [
        "Read the file into a dataframe"
      ]
    },
    {
      "cell_type": "code",
      "metadata": {
        "id": "vSW-xgBAQLf4"
      },
      "source": [
        "concretedata = pd.read_csv('concrete_data.csv')"
      ],
      "execution_count": null,
      "outputs": []
    },
    {
      "cell_type": "markdown",
      "metadata": {
        "id": "cV1Qsw7_QuAD"
      },
      "source": [
        "Display first few records of the file"
      ]
    },
    {
      "cell_type": "code",
      "metadata": {
        "id": "DYlIPD1SQjru",
        "colab": {
          "base_uri": "https://localhost:8080/",
          "height": 204
        },
        "outputId": "6fc72f9d-f598-44d3-c2cf-74b0e3025fd3"
      },
      "source": [
        "concretedata.head()"
      ],
      "execution_count": null,
      "outputs": [
        {
          "output_type": "execute_result",
          "data": {
            "text/html": [
              "<div>\n",
              "<style scoped>\n",
              "    .dataframe tbody tr th:only-of-type {\n",
              "        vertical-align: middle;\n",
              "    }\n",
              "\n",
              "    .dataframe tbody tr th {\n",
              "        vertical-align: top;\n",
              "    }\n",
              "\n",
              "    .dataframe thead th {\n",
              "        text-align: right;\n",
              "    }\n",
              "</style>\n",
              "<table border=\"1\" class=\"dataframe\">\n",
              "  <thead>\n",
              "    <tr style=\"text-align: right;\">\n",
              "      <th></th>\n",
              "      <th>Cement</th>\n",
              "      <th>Blast Furnace Slag</th>\n",
              "      <th>Fly Ash</th>\n",
              "      <th>Water</th>\n",
              "      <th>Superplasticizer</th>\n",
              "      <th>Coarse Aggregate</th>\n",
              "      <th>Fine Aggregate</th>\n",
              "      <th>Age</th>\n",
              "      <th>Strength</th>\n",
              "    </tr>\n",
              "  </thead>\n",
              "  <tbody>\n",
              "    <tr>\n",
              "      <th>0</th>\n",
              "      <td>540.0</td>\n",
              "      <td>0.0</td>\n",
              "      <td>0.0</td>\n",
              "      <td>162.0</td>\n",
              "      <td>2.5</td>\n",
              "      <td>1040.0</td>\n",
              "      <td>676.0</td>\n",
              "      <td>28</td>\n",
              "      <td>79.99</td>\n",
              "    </tr>\n",
              "    <tr>\n",
              "      <th>1</th>\n",
              "      <td>540.0</td>\n",
              "      <td>0.0</td>\n",
              "      <td>0.0</td>\n",
              "      <td>162.0</td>\n",
              "      <td>2.5</td>\n",
              "      <td>1055.0</td>\n",
              "      <td>676.0</td>\n",
              "      <td>28</td>\n",
              "      <td>61.89</td>\n",
              "    </tr>\n",
              "    <tr>\n",
              "      <th>2</th>\n",
              "      <td>332.5</td>\n",
              "      <td>142.5</td>\n",
              "      <td>0.0</td>\n",
              "      <td>228.0</td>\n",
              "      <td>0.0</td>\n",
              "      <td>932.0</td>\n",
              "      <td>594.0</td>\n",
              "      <td>270</td>\n",
              "      <td>40.27</td>\n",
              "    </tr>\n",
              "    <tr>\n",
              "      <th>3</th>\n",
              "      <td>332.5</td>\n",
              "      <td>142.5</td>\n",
              "      <td>0.0</td>\n",
              "      <td>228.0</td>\n",
              "      <td>0.0</td>\n",
              "      <td>932.0</td>\n",
              "      <td>594.0</td>\n",
              "      <td>365</td>\n",
              "      <td>41.05</td>\n",
              "    </tr>\n",
              "    <tr>\n",
              "      <th>4</th>\n",
              "      <td>198.6</td>\n",
              "      <td>132.4</td>\n",
              "      <td>0.0</td>\n",
              "      <td>192.0</td>\n",
              "      <td>0.0</td>\n",
              "      <td>978.4</td>\n",
              "      <td>825.5</td>\n",
              "      <td>360</td>\n",
              "      <td>44.30</td>\n",
              "    </tr>\n",
              "  </tbody>\n",
              "</table>\n",
              "</div>"
            ],
            "text/plain": [
              "   Cement  Blast Furnace Slag  Fly Ash  ...  Fine Aggregate  Age  Strength\n",
              "0   540.0                 0.0      0.0  ...           676.0   28     79.99\n",
              "1   540.0                 0.0      0.0  ...           676.0   28     61.89\n",
              "2   332.5               142.5      0.0  ...           594.0  270     40.27\n",
              "3   332.5               142.5      0.0  ...           594.0  365     41.05\n",
              "4   198.6               132.4      0.0  ...           825.5  360     44.30\n",
              "\n",
              "[5 rows x 9 columns]"
            ]
          },
          "metadata": {
            "tags": []
          },
          "execution_count": 7
        }
      ]
    },
    {
      "cell_type": "markdown",
      "metadata": {
        "id": "-Oh9xu1KQx47"
      },
      "source": [
        "Check for Null values in the data"
      ]
    },
    {
      "cell_type": "code",
      "metadata": {
        "id": "DcBcTRWaQ1dG",
        "colab": {
          "base_uri": "https://localhost:8080/",
          "height": 187
        },
        "outputId": "bc712d16-70b4-47d5-ea76-88253c1d1a7b"
      },
      "source": [
        "concretedata.isnull().sum()"
      ],
      "execution_count": null,
      "outputs": [
        {
          "output_type": "execute_result",
          "data": {
            "text/plain": [
              "Cement                0\n",
              "Blast Furnace Slag    0\n",
              "Fly Ash               0\n",
              "Water                 0\n",
              "Superplasticizer      0\n",
              "Coarse Aggregate      0\n",
              "Fine Aggregate        0\n",
              "Age                   0\n",
              "Strength              0\n",
              "dtype: int64"
            ]
          },
          "metadata": {
            "tags": []
          },
          "execution_count": 8
        }
      ]
    },
    {
      "cell_type": "markdown",
      "metadata": {
        "id": "ahnmwtj0RDJp"
      },
      "source": [
        "check all data types in the data:"
      ]
    },
    {
      "cell_type": "code",
      "metadata": {
        "id": "K_cUItBuQ99R",
        "colab": {
          "base_uri": "https://localhost:8080/",
          "height": 187
        },
        "outputId": "24710dff-55ff-438d-bdb9-2ff54a3f2aa8"
      },
      "source": [
        "concretedata.dtypes"
      ],
      "execution_count": null,
      "outputs": [
        {
          "output_type": "execute_result",
          "data": {
            "text/plain": [
              "Cement                float64\n",
              "Blast Furnace Slag    float64\n",
              "Fly Ash               float64\n",
              "Water                 float64\n",
              "Superplasticizer      float64\n",
              "Coarse Aggregate      float64\n",
              "Fine Aggregate        float64\n",
              "Age                     int64\n",
              "Strength              float64\n",
              "dtype: object"
            ]
          },
          "metadata": {
            "tags": []
          },
          "execution_count": 9
        }
      ]
    },
    {
      "cell_type": "code",
      "metadata": {
        "id": "0zSpcGj9RVfu"
      },
      "source": [
        "workingdata = concretedata.copy()"
      ],
      "execution_count": null,
      "outputs": []
    },
    {
      "cell_type": "code",
      "metadata": {
        "id": "PJdBMJQfR3o3",
        "colab": {
          "base_uri": "https://localhost:8080/",
          "height": 187
        },
        "outputId": "1c59f29f-e905-49fe-a42f-a71e90f6ae17"
      },
      "source": [
        "workingdata.mean()"
      ],
      "execution_count": null,
      "outputs": [
        {
          "output_type": "execute_result",
          "data": {
            "text/plain": [
              "Cement                281.167864\n",
              "Blast Furnace Slag     73.895825\n",
              "Fly Ash                54.188350\n",
              "Water                 181.567282\n",
              "Superplasticizer        6.204660\n",
              "Coarse Aggregate      972.918932\n",
              "Fine Aggregate        773.580485\n",
              "Age                    45.662136\n",
              "Strength               35.817961\n",
              "dtype: float64"
            ]
          },
          "metadata": {
            "tags": []
          },
          "execution_count": 11
        }
      ]
    },
    {
      "cell_type": "code",
      "metadata": {
        "id": "J0NX0nuBSDhX"
      },
      "source": [
        "workingdata.std?"
      ],
      "execution_count": null,
      "outputs": []
    },
    {
      "cell_type": "code",
      "metadata": {
        "id": "MzAKnlZiR8aR",
        "colab": {
          "base_uri": "https://localhost:8080/",
          "height": 187
        },
        "outputId": "f9d40b5b-6054-45da-ad18-a81b27d077f6"
      },
      "source": [
        "workingdata.std()"
      ],
      "execution_count": null,
      "outputs": [
        {
          "output_type": "execute_result",
          "data": {
            "text/plain": [
              "Cement                104.506364\n",
              "Blast Furnace Slag     86.279342\n",
              "Fly Ash                63.997004\n",
              "Water                  21.354219\n",
              "Superplasticizer        5.973841\n",
              "Coarse Aggregate       77.753954\n",
              "Fine Aggregate         80.175980\n",
              "Age                    63.169912\n",
              "Strength               16.705742\n",
              "dtype: float64"
            ]
          },
          "metadata": {
            "tags": []
          },
          "execution_count": 13
        }
      ]
    },
    {
      "cell_type": "code",
      "metadata": {
        "id": "PAGKX73kRexC"
      },
      "source": [
        "normalizeddata = (workingdata - workingdata.mean())/workingdata.std()"
      ],
      "execution_count": null,
      "outputs": []
    },
    {
      "cell_type": "code",
      "metadata": {
        "id": "JuvRxLGBTc86"
      },
      "source": [
        "cols=workingdata.columns.to_list()"
      ],
      "execution_count": null,
      "outputs": []
    },
    {
      "cell_type": "code",
      "metadata": {
        "id": "KC_Z42OlTwKj"
      },
      "source": [
        "cols.remove('Strength')"
      ],
      "execution_count": null,
      "outputs": []
    },
    {
      "cell_type": "code",
      "metadata": {
        "id": "XOcREJ9yVLDf"
      },
      "source": [
        "def split_data(X,Y):\n",
        "  X_train,X_test,Y_train,Y_test=train_test_split(X,Y,test_size=0.3)\n",
        "  return X_train,X_test,Y_train,Y_test"
      ],
      "execution_count": null,
      "outputs": []
    },
    {
      "cell_type": "code",
      "metadata": {
        "id": "Hmc50adDWeKT"
      },
      "source": [
        "#def set_network_params(X_train,hidden_layers):\n",
        "# input_neurons = X_train.shape[1]\n",
        "# output_neurons = 1\n",
        "#  number_of_hidden_layers=hidden_layers\n",
        "#  number_of_neurons_1=10\n",
        "  #number_of_neurons_2=5\n",
        "#  return input_neurons,output_neurons,number_of_hidden_layers,number_of_neurons_1"
      ],
      "execution_count": null,
      "outputs": []
    },
    {
      "cell_type": "code",
      "metadata": {
        "id": "OcQxuSCjWkoN"
      },
      "source": [
        "mean_error=[]\n",
        "Y=workingdata['Strength']\n",
        "X=workingdata[cols]\n",
        "#X_train,X_test,Y_train,Y_test = split_data(X,Y)\n",
        "input_neurons = X.shape[1]\n",
        "output_neurons = 1\n",
        "number_of_neurons_1=10\n",
        "LinModel = Sequential()\n",
        "LinModel.add(InputLayer(input_shape=(input_neurons,)))\n",
        "LinModel.add(Dense(number_of_neurons_1,activation='relu'))\n",
        "LinModel.add(Dense(output_neurons,activation='linear'))"
      ],
      "execution_count": null,
      "outputs": []
    },
    {
      "cell_type": "code",
      "metadata": {
        "id": "CuCqS90slq9C",
        "colab": {
          "base_uri": "https://localhost:8080/",
          "height": 221
        },
        "outputId": "81eb0465-f9ba-47c2-8f94-cd28fcfffc6a"
      },
      "source": [
        "LinModel.summary()"
      ],
      "execution_count": null,
      "outputs": [
        {
          "output_type": "stream",
          "text": [
            "Model: \"sequential_1\"\n",
            "_________________________________________________________________\n",
            "Layer (type)                 Output Shape              Param #   \n",
            "=================================================================\n",
            "dense_1 (Dense)              (None, 10)                90        \n",
            "_________________________________________________________________\n",
            "dense_2 (Dense)              (None, 1)                 11        \n",
            "=================================================================\n",
            "Total params: 101\n",
            "Trainable params: 101\n",
            "Non-trainable params: 0\n",
            "_________________________________________________________________\n"
          ],
          "name": "stdout"
        }
      ]
    },
    {
      "cell_type": "code",
      "metadata": {
        "id": "DKiA98QFl-1S"
      },
      "source": [
        "LinModel.compile(optimizer='Adam',loss='mean_squared_error',metrics=['mse'])"
      ],
      "execution_count": null,
      "outputs": []
    },
    {
      "cell_type": "code",
      "metadata": {
        "id": "4GBHlRroun_E"
      },
      "source": [
        "for i in range(50):\n",
        "  X_train,X_test,Y_train,Y_test = split_data(X,Y)\n",
        "  history = LinModel.fit(x=X_train,y=Y_train,validation_data=(X_test,Y_test),epochs=50,verbose=0)\n",
        "  Y_predicted = LinModel.predict(X_test)\n",
        "  mean_error.append(mean_squared_error(Y_test,Y_predicted))"
      ],
      "execution_count": null,
      "outputs": []
    },
    {
      "cell_type": "code",
      "metadata": {
        "id": "UnAJlidbovMx",
        "colab": {
          "base_uri": "https://localhost:8080/",
          "height": 34
        },
        "outputId": "f62d56e4-0766-485b-8ca8-6a3ce53b1502"
      },
      "source": [
        "len(mean_error)"
      ],
      "execution_count": null,
      "outputs": [
        {
          "output_type": "execute_result",
          "data": {
            "text/plain": [
              "50"
            ]
          },
          "metadata": {
            "tags": []
          },
          "execution_count": 24
        }
      ]
    },
    {
      "cell_type": "code",
      "metadata": {
        "id": "A9AAF_9ov0mB",
        "colab": {
          "base_uri": "https://localhost:8080/",
          "height": 34
        },
        "outputId": "05419ff2-d4be-4a7d-ee77-6d627e197932"
      },
      "source": [
        "np.average(mean_error)"
      ],
      "execution_count": null,
      "outputs": [
        {
          "output_type": "execute_result",
          "data": {
            "text/plain": [
              "71.66618836373478"
            ]
          },
          "metadata": {
            "tags": []
          },
          "execution_count": 25
        }
      ]
    },
    {
      "cell_type": "code",
      "metadata": {
        "id": "R3t157lLwK0k",
        "colab": {
          "base_uri": "https://localhost:8080/",
          "height": 34
        },
        "outputId": "0b79199f-0156-47f8-8b9e-849c4a061850"
      },
      "source": [
        "np.std(mean_error)"
      ],
      "execution_count": null,
      "outputs": [
        {
          "output_type": "execute_result",
          "data": {
            "text/plain": [
              "29.530751537338414"
            ]
          },
          "metadata": {
            "tags": []
          },
          "execution_count": 26
        }
      ]
    },
    {
      "cell_type": "markdown",
      "metadata": {
        "id": "VQyxY8kPSFz2"
      },
      "source": [
        "B. Using normalized data (5 marks)"
      ]
    },
    {
      "cell_type": "code",
      "metadata": {
        "id": "YE0PhjljSORK"
      },
      "source": [
        "mean_error=[]\n",
        "Y=normalizeddata['Strength']\n",
        "X=normalizeddata[cols]\n",
        "for i in range(50):\n",
        "  X_train,X_test,Y_train,Y_test = split_data(X,Y)\n",
        "  history = LinModel.fit(x=X_train,y=Y_train,validation_data=(X_test,Y_test),epochs=50,verbose=0)\n",
        "  Y_predicted = LinModel.predict(X_test)\n",
        "  mean_error.append(mean_squared_error(Y_test,Y_predicted))"
      ],
      "execution_count": null,
      "outputs": []
    },
    {
      "cell_type": "code",
      "metadata": {
        "id": "wPCgg7yMbVtV",
        "colab": {
          "base_uri": "https://localhost:8080/",
          "height": 34
        },
        "outputId": "75958cba-9925-4a2a-fec9-7f9b5cfa6c26"
      },
      "source": [
        "len(mean_error)"
      ],
      "execution_count": null,
      "outputs": [
        {
          "output_type": "execute_result",
          "data": {
            "text/plain": [
              "50"
            ]
          },
          "metadata": {
            "tags": []
          },
          "execution_count": 39
        }
      ]
    },
    {
      "cell_type": "code",
      "metadata": {
        "id": "U3KxasFHS6Q9",
        "colab": {
          "base_uri": "https://localhost:8080/",
          "height": 34
        },
        "outputId": "4cc29508-06a9-4b1a-a51a-f69cdcc63e74"
      },
      "source": [
        "np.average(mean_error)"
      ],
      "execution_count": null,
      "outputs": [
        {
          "output_type": "execute_result",
          "data": {
            "text/plain": [
              "0.0984611669749865"
            ]
          },
          "metadata": {
            "tags": []
          },
          "execution_count": 40
        }
      ]
    },
    {
      "cell_type": "code",
      "metadata": {
        "id": "CFVJAV9lS-Me",
        "colab": {
          "base_uri": "https://localhost:8080/",
          "height": 34
        },
        "outputId": "8987fd02-fb17-47dc-d540-fe1988c9c7f5"
      },
      "source": [
        "np.std(mean_error)"
      ],
      "execution_count": null,
      "outputs": [
        {
          "output_type": "execute_result",
          "data": {
            "text/plain": [
              "0.00797658818464678"
            ]
          },
          "metadata": {
            "tags": []
          },
          "execution_count": 41
        }
      ]
    },
    {
      "cell_type": "markdown",
      "metadata": {
        "id": "mTC_HQRhTMv-"
      },
      "source": [
        "C. Increasing the number of epochs to 100"
      ]
    },
    {
      "cell_type": "code",
      "metadata": {
        "id": "TbpDHSJmTVdv"
      },
      "source": [
        "mean_error=[]\n",
        "Y=normalizeddata['Strength']\n",
        "X=normalizeddata[cols]\n",
        "for i in range(50):\n",
        "  X_train,X_test,Y_train,Y_test = split_data(X,Y)\n",
        "  LinModel.fit(x=X_train,y=Y_train,validation_data=(X_test,Y_test),epochs=100,verbose=0)\n",
        "  Y_predicted = LinModel.predict(X_test)\n",
        "  mean_error.append(mean_squared_error(Y_test,Y_predicted))"
      ],
      "execution_count": null,
      "outputs": []
    },
    {
      "cell_type": "code",
      "metadata": {
        "id": "jGX3KkztTeYY",
        "colab": {
          "base_uri": "https://localhost:8080/",
          "height": 34
        },
        "outputId": "ced57ef1-218b-4837-cb35-7ffedc14a39d"
      },
      "source": [
        "np.average(mean_error)"
      ],
      "execution_count": null,
      "outputs": [
        {
          "output_type": "execute_result",
          "data": {
            "text/plain": [
              "0.09392153997318343"
            ]
          },
          "metadata": {
            "tags": []
          },
          "execution_count": 43
        }
      ]
    },
    {
      "cell_type": "code",
      "metadata": {
        "id": "89nUPmhwTgTZ",
        "colab": {
          "base_uri": "https://localhost:8080/",
          "height": 34
        },
        "outputId": "e75e6b14-24ad-4be2-f9d8-96ad9b70b4e3"
      },
      "source": [
        "np.std(mean_error)"
      ],
      "execution_count": null,
      "outputs": [
        {
          "output_type": "execute_result",
          "data": {
            "text/plain": [
              "0.009343755498642052"
            ]
          },
          "metadata": {
            "tags": []
          },
          "execution_count": 44
        }
      ]
    },
    {
      "cell_type": "markdown",
      "metadata": {
        "id": "2yOZiaVjZho-"
      },
      "source": [
        "D. Increase the number of hidden layers"
      ]
    },
    {
      "cell_type": "code",
      "metadata": {
        "id": "QE9WEgB1Zr4l"
      },
      "source": [
        "output_neurons = 1\n",
        "number_of_neurons_1=10\n",
        "number_of_neurons_2=10\n",
        "number_of_neurons_3=10\n",
        "\n",
        "LinModel1 = Sequential()\n",
        "LinModel1.add(InputLayer(input_shape=(input_neurons,)))\n",
        "LinModel1.add(Dense(number_of_neurons_1,activation='relu'))\n",
        "LinModel1.add(Dense(number_of_neurons_2,activation='relu'))\n",
        "LinModel1.add(Dense(number_of_neurons_3,activation='relu'))\n",
        "LinModel1.add(Dense(output_neurons,activation='linear'))\n",
        "LinModel1.compile(optimizer='Adam',loss='mean_squared_error',metrics=['mse'])"
      ],
      "execution_count": null,
      "outputs": []
    },
    {
      "cell_type": "code",
      "metadata": {
        "id": "Bwvf5FWZaQe1"
      },
      "source": [
        "mean_error=[]\n",
        "Y=normalizeddata['Strength']\n",
        "X=normalizeddata[cols]\n",
        "for i in range(50):\n",
        "  X_train,X_test,Y_train,Y_test = split_data(X,Y)\n",
        "  LinModel1.fit(x=X_train,y=Y_train,validation_data=(X_test,Y_test),epochs=100,verbose=0)\n",
        "  Y_predicted = LinModel1.predict(X_test)\n",
        "  mean_error.append(mean_squared_error(Y_test,Y_predicted))"
      ],
      "execution_count": null,
      "outputs": []
    },
    {
      "cell_type": "code",
      "metadata": {
        "id": "_1_YAjfFa8B1",
        "colab": {
          "base_uri": "https://localhost:8080/",
          "height": 34
        },
        "outputId": "8b7d2ee6-6035-45a9-f8f7-2f88eab23967"
      },
      "source": [
        "len(mean_error)"
      ],
      "execution_count": null,
      "outputs": [
        {
          "output_type": "execute_result",
          "data": {
            "text/plain": [
              "200"
            ]
          },
          "metadata": {
            "tags": []
          },
          "execution_count": 37
        }
      ]
    },
    {
      "cell_type": "code",
      "metadata": {
        "id": "CN3eORpmcaD7",
        "colab": {
          "base_uri": "https://localhost:8080/",
          "height": 34
        },
        "outputId": "47d69e65-0e4f-4a84-8823-4c844ec74903"
      },
      "source": [
        "np.average(mean_error)"
      ],
      "execution_count": null,
      "outputs": [
        {
          "output_type": "execute_result",
          "data": {
            "text/plain": [
              "0.06660173840003462"
            ]
          },
          "metadata": {
            "tags": []
          },
          "execution_count": 47
        }
      ]
    },
    {
      "cell_type": "code",
      "metadata": {
        "id": "ACuDZQbMceZ3",
        "colab": {
          "base_uri": "https://localhost:8080/",
          "height": 34
        },
        "outputId": "ea56d306-239a-4fee-bcda-4f261bae932d"
      },
      "source": [
        "np.std(mean_error)"
      ],
      "execution_count": null,
      "outputs": [
        {
          "output_type": "execute_result",
          "data": {
            "text/plain": [
              "0.018926367865015663"
            ]
          },
          "metadata": {
            "tags": []
          },
          "execution_count": 48
        }
      ]
    },
    {
      "cell_type": "markdown",
      "metadata": {
        "id": "I9xTVReEULIe"
      },
      "source": [
        ""
      ]
    }
  ]
}